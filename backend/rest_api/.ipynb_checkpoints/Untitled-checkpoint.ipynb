{
 "cells": [
  {
   "cell_type": "code",
   "execution_count": 1,
   "id": "0b5b47ef",
   "metadata": {},
   "outputs": [],
   "source": [
    "import firebase_admin"
   ]
  },
  {
   "cell_type": "code",
   "execution_count": 2,
   "id": "dc2324f1",
   "metadata": {},
   "outputs": [],
   "source": [
    "from firebase_admin import firestore"
   ]
  },
  {
   "cell_type": "code",
   "execution_count": 3,
   "id": "140a396c",
   "metadata": {},
   "outputs": [],
   "source": [
    "from firebase_admin import credentials"
   ]
  },
  {
   "cell_type": "code",
   "execution_count": 4,
   "id": "110e64b2",
   "metadata": {},
   "outputs": [],
   "source": [
    "cred = credentials.Certificate('team-25-362714-623f2b1f64ab.json')"
   ]
  },
  {
   "cell_type": "code",
   "execution_count": 5,
   "id": "ca5657d7",
   "metadata": {},
   "outputs": [],
   "source": [
    "app = firebase_admin.initialize_app(cred)"
   ]
  },
  {
   "cell_type": "code",
   "execution_count": 6,
   "id": "c00d2b29",
   "metadata": {},
   "outputs": [],
   "source": [
    "db = firestore.client()"
   ]
  },
  {
   "cell_type": "code",
   "execution_count": 51,
   "id": "d8130386",
   "metadata": {},
   "outputs": [],
   "source": [
    "user_ref = db.collection(u'Models').document('user 1')"
   ]
  },
  {
   "cell_type": "code",
   "execution_count": 53,
   "id": "5c6be152",
   "metadata": {},
   "outputs": [],
   "source": [
    "l = user_ref.get()"
   ]
  },
  {
   "cell_type": "code",
   "execution_count": 54,
   "id": "eadb6979",
   "metadata": {},
   "outputs": [
    {
     "data": {
      "text/plain": [
       "'\\\\x80\\\\x04\\\\x95\\\\xd9\\\\x01\\\\x00\\\\x00\\\\x00\\\\x00\\\\x00\\\\x00\\\\x8c\\\\x1asklearn.linear_model._base\\\\x94\\\\x8c\\\\x10LinearRegression\\\\x94\\\\x93\\\\x94)\\\\x81\\\\x94}\\\\x94(\\\\x8c\\\\rfit_intercept\\\\x94\\\\x88\\\\x8c\\\\tnormalize\\\\x94\\\\x8c\\\\ndeprecated\\\\x94\\\\x8c\\\\x06copy_X\\\\x94\\\\x88\\\\x8c\\\\x06n_jobs\\\\x94N\\\\x8c\\\\x08positive\\\\x94\\\\x89\\\\x8c\\\\x0en_features_in_\\\\x94K\\\\x05\\\\x8c\\\\x05coef_\\\\x94\\\\x8c\\\\x15numpy.core.multiarray\\\\x94\\\\x8c\\\\x0c_reconstruct\\\\x94\\\\x93\\\\x94\\\\x8c\\\\x05numpy\\\\x94\\\\x8c\\\\x07ndarray\\\\x94\\\\x93\\\\x94K\\\\x00\\\\x85\\\\x94C\\\\x01b\\\\x94\\\\x87\\\\x94R\\\\x94(K\\\\x01K\\\\x05\\\\x85\\\\x94h\\\\x10\\\\x8c\\\\x05dtype\\\\x94\\\\x93\\\\x94\\\\x8c\\\\x02f8\\\\x94\\\\x89\\\\x88\\\\x87\\\\x94R\\\\x94(K\\\\x03\\\\x8c\\\\x01<\\\\x94NNNJ\\\\xff\\\\xff\\\\xff\\\\xffJ\\\\xff\\\\xff\\\\xff\\\\xffK\\\\x00t\\\\x94b\\\\x89C(\\\\x90$I\\\\x92$I\\\\xb2?\\\\x00\\\\x00\\\\x00\\\\x00\\\\x00\\\\x00\\\\x00\\\\x00\\\\x91$I\\\\x92$I\\\\xc2\\\\xbf\\\\x00\\\\x00\\\\x00\\\\x00\\\\x00\\\\x00\\\\x00\\\\x00\\\\xda\\\\xb6m\\\\xdb\\\\xb6m\\\\xcb\\\\xbf\\\\x94t\\\\x94b\\\\x8c\\\\x05rank_\\\\x94K\\\\x01\\\\x8c\\\\tsingular_\\\\x94h\\\\x0fh\\\\x12K\\\\x00\\\\x85\\\\x94h\\\\x14\\\\x87\\\\x94R\\\\x94(K\\\\x01K\\\\x02\\\\x85\\\\x94h\\\\x1c\\\\x89C\\\\x10\\\\xea\\\\xf8\\\\xd2\\\\xa9\\\\x7f*\\\\x05@\\\\x91ym\\\\xc3\\\\xd72\\\\xab<\\\\x94t\\\\x94b\\\\x8c\\\\nintercept_\\\\x94h\\\\r\\\\x8c\\\\x06scalar\\\\x94\\\\x93\\\\x94h\\\\x1cC\\\\x08\\\\xdb\\\\xb6m\\\\xdb\\\\xb6m\\\\x03@\\\\x94\\\\x86\\\\x94R\\\\x94\\\\x8c\\\\x10_sklearn_version\\\\x94\\\\x8c\\\\x051.1.2\\\\x94ub.'"
      ]
     },
     "execution_count": 54,
     "metadata": {},
     "output_type": "execute_result"
    }
   ],
   "source": [
    "l.to_dict()['model 1']"
   ]
  },
  {
   "cell_type": "code",
   "execution_count": 36,
   "id": "cd9de4f1",
   "metadata": {},
   "outputs": [],
   "source": [
    "from sklearn.linear_model import LinearRegression"
   ]
  },
  {
   "cell_type": "code",
   "execution_count": 47,
   "id": "2fc0b6d3",
   "metadata": {},
   "outputs": [],
   "source": [
    "m = LinearRegression()"
   ]
  },
  {
   "cell_type": "code",
   "execution_count": 48,
   "id": "b6377507",
   "metadata": {},
   "outputs": [],
   "source": [
    "X = [[1,2,3],[4,5,6]]"
   ]
  },
  {
   "cell_type": "code",
   "execution_count": 49,
   "id": "2ea2e7c7",
   "metadata": {},
   "outputs": [],
   "source": [
    "y = [1,2]"
   ]
  },
  {
   "cell_type": "code",
   "execution_count": 50,
   "id": "1fee6a1a",
   "metadata": {},
   "outputs": [
    {
     "data": {
      "text/html": [
       "<style>#sk-container-id-1 {color: black;background-color: white;}#sk-container-id-1 pre{padding: 0;}#sk-container-id-1 div.sk-toggleable {background-color: white;}#sk-container-id-1 label.sk-toggleable__label {cursor: pointer;display: block;width: 100%;margin-bottom: 0;padding: 0.3em;box-sizing: border-box;text-align: center;}#sk-container-id-1 label.sk-toggleable__label-arrow:before {content: \"▸\";float: left;margin-right: 0.25em;color: #696969;}#sk-container-id-1 label.sk-toggleable__label-arrow:hover:before {color: black;}#sk-container-id-1 div.sk-estimator:hover label.sk-toggleable__label-arrow:before {color: black;}#sk-container-id-1 div.sk-toggleable__content {max-height: 0;max-width: 0;overflow: hidden;text-align: left;background-color: #f0f8ff;}#sk-container-id-1 div.sk-toggleable__content pre {margin: 0.2em;color: black;border-radius: 0.25em;background-color: #f0f8ff;}#sk-container-id-1 input.sk-toggleable__control:checked~div.sk-toggleable__content {max-height: 200px;max-width: 100%;overflow: auto;}#sk-container-id-1 input.sk-toggleable__control:checked~label.sk-toggleable__label-arrow:before {content: \"▾\";}#sk-container-id-1 div.sk-estimator input.sk-toggleable__control:checked~label.sk-toggleable__label {background-color: #d4ebff;}#sk-container-id-1 div.sk-label input.sk-toggleable__control:checked~label.sk-toggleable__label {background-color: #d4ebff;}#sk-container-id-1 input.sk-hidden--visually {border: 0;clip: rect(1px 1px 1px 1px);clip: rect(1px, 1px, 1px, 1px);height: 1px;margin: -1px;overflow: hidden;padding: 0;position: absolute;width: 1px;}#sk-container-id-1 div.sk-estimator {font-family: monospace;background-color: #f0f8ff;border: 1px dotted black;border-radius: 0.25em;box-sizing: border-box;margin-bottom: 0.5em;}#sk-container-id-1 div.sk-estimator:hover {background-color: #d4ebff;}#sk-container-id-1 div.sk-parallel-item::after {content: \"\";width: 100%;border-bottom: 1px solid gray;flex-grow: 1;}#sk-container-id-1 div.sk-label:hover label.sk-toggleable__label {background-color: #d4ebff;}#sk-container-id-1 div.sk-serial::before {content: \"\";position: absolute;border-left: 1px solid gray;box-sizing: border-box;top: 0;bottom: 0;left: 50%;z-index: 0;}#sk-container-id-1 div.sk-serial {display: flex;flex-direction: column;align-items: center;background-color: white;padding-right: 0.2em;padding-left: 0.2em;position: relative;}#sk-container-id-1 div.sk-item {position: relative;z-index: 1;}#sk-container-id-1 div.sk-parallel {display: flex;align-items: stretch;justify-content: center;background-color: white;position: relative;}#sk-container-id-1 div.sk-item::before, #sk-container-id-1 div.sk-parallel-item::before {content: \"\";position: absolute;border-left: 1px solid gray;box-sizing: border-box;top: 0;bottom: 0;left: 50%;z-index: -1;}#sk-container-id-1 div.sk-parallel-item {display: flex;flex-direction: column;z-index: 1;position: relative;background-color: white;}#sk-container-id-1 div.sk-parallel-item:first-child::after {align-self: flex-end;width: 50%;}#sk-container-id-1 div.sk-parallel-item:last-child::after {align-self: flex-start;width: 50%;}#sk-container-id-1 div.sk-parallel-item:only-child::after {width: 0;}#sk-container-id-1 div.sk-dashed-wrapped {border: 1px dashed gray;margin: 0 0.4em 0.5em 0.4em;box-sizing: border-box;padding-bottom: 0.4em;background-color: white;}#sk-container-id-1 div.sk-label label {font-family: monospace;font-weight: bold;display: inline-block;line-height: 1.2em;}#sk-container-id-1 div.sk-label-container {text-align: center;}#sk-container-id-1 div.sk-container {/* jupyter's `normalize.less` sets `[hidden] { display: none; }` but bootstrap.min.css set `[hidden] { display: none !important; }` so we also need the `!important` here to be able to override the default hidden behavior on the sphinx rendered scikit-learn.org. See: https://github.com/scikit-learn/scikit-learn/issues/21755 */display: inline-block !important;position: relative;}#sk-container-id-1 div.sk-text-repr-fallback {display: none;}</style><div id=\"sk-container-id-1\" class=\"sk-top-container\"><div class=\"sk-text-repr-fallback\"><pre>LinearRegression()</pre><b>In a Jupyter environment, please rerun this cell to show the HTML representation or trust the notebook. <br />On GitHub, the HTML representation is unable to render, please try loading this page with nbviewer.org.</b></div><div class=\"sk-container\" hidden><div class=\"sk-item\"><div class=\"sk-estimator sk-toggleable\"><input class=\"sk-toggleable__control sk-hidden--visually\" id=\"sk-estimator-id-1\" type=\"checkbox\" checked><label for=\"sk-estimator-id-1\" class=\"sk-toggleable__label sk-toggleable__label-arrow\">LinearRegression</label><div class=\"sk-toggleable__content\"><pre>LinearRegression()</pre></div></div></div></div></div>"
      ],
      "text/plain": [
       "LinearRegression()"
      ]
     },
     "execution_count": 50,
     "metadata": {},
     "output_type": "execute_result"
    }
   ],
   "source": [
    "m.fit(X,y)"
   ]
  },
  {
   "cell_type": "code",
   "execution_count": null,
   "id": "36170b8a",
   "metadata": {},
   "outputs": [],
   "source": []
  }
 ],
 "metadata": {
  "kernelspec": {
   "display_name": "Python 3 (ipykernel)",
   "language": "python",
   "name": "python3"
  },
  "language_info": {
   "codemirror_mode": {
    "name": "ipython",
    "version": 3
   },
   "file_extension": ".py",
   "mimetype": "text/x-python",
   "name": "python",
   "nbconvert_exporter": "python",
   "pygments_lexer": "ipython3",
   "version": "3.10.6"
  }
 },
 "nbformat": 4,
 "nbformat_minor": 5
}
